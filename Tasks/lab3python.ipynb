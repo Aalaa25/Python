{
 "cells": [
  {
   "cell_type": "code",
   "execution_count": null,
   "metadata": {},
   "outputs": [],
   "source": []
  },
  {
   "cell_type": "markdown",
   "metadata": {},
   "source": [
    "1-Write a function that accepts two arguments (length, start) to generate an array of a specific length filled with integer numbers increased by one from start."
   ]
  },
  {
   "cell_type": "code",
   "execution_count": 2,
   "metadata": {},
   "outputs": [
    {
     "name": "stdout",
     "output_type": "stream",
     "text": [
      "[1, 2, 3, 4, 5]\n"
     ]
    }
   ],
   "source": [
    "ls =[]\n",
    "def myarr (length , start) : \n",
    "    if isinstance(length , int) and isinstance(start , int) :\n",
    "        for i in range(length) :\n",
    "            ls.append(start + i)\n",
    "        print(ls)\n",
    "    else :\n",
    "        print (\"you entered a wrong value\")\n",
    "        \n",
    "myarr(5 , 1)\n"
   ]
  },
  {
   "cell_type": "markdown",
   "metadata": {},
   "source": [
    "2-write a function that takes a number as an argument and if the number divisible by 3 return \"Fizz\" and if it isdivisible by 5 return \"buzz\" and if is is divisible by both return \"FizzBuzz\""
   ]
  },
  {
   "cell_type": "code",
   "execution_count": 5,
   "metadata": {},
   "outputs": [
    {
     "data": {
      "text/plain": [
       "'fizbuzz'"
      ]
     },
     "execution_count": 5,
     "metadata": {},
     "output_type": "execute_result"
    }
   ],
   "source": [
    "def myfun (num) : \n",
    "    if isinstance(num , int) :\n",
    "        if num % 2 == 0 and num % 3 ==0 :\n",
    "            return \"fizbuzz\"\n",
    "        elif num % 2 ==0 :\n",
    "            return \"buzz\"\n",
    "        elif num % 3 ==0 :\n",
    "            return \"fiz\"\n",
    "        else :\n",
    "            return \"try again \"\n",
    "        \n",
    "myfun(6)"
   ]
  },
  {
   "cell_type": "markdown",
   "metadata": {},
   "source": [
    "3-Write a function which has an input of a string from user then it will return the same string reversed."
   ]
  },
  {
   "cell_type": "code",
   "execution_count": 6,
   "metadata": {},
   "outputs": [
    {
     "name": "stdout",
     "output_type": "stream",
     "text": [
      "ayamos\n"
     ]
    }
   ],
   "source": [
    "def mystring () :\n",
    "    x = input(\"Enter a string : \")\n",
    "    y = len(x)\n",
    "    reverse = ''\n",
    "    while y > 0 :\n",
    "        reverse +=x[y-1]\n",
    "        y -=1;\n",
    "    print(reverse)\n",
    "mystring()"
   ]
  },
  {
   "cell_type": "markdown",
   "metadata": {},
   "source": [
    "4-Ask the user for his name then confirm that he has entered his name(not an empty string/integers). then proceed to ask him for his email and print all this data (Bonus) check if it is a valid email or not"
   ]
  },
  {
   "cell_type": "code",
   "execution_count": 8,
   "metadata": {},
   "outputs": [
    {
     "name": "stdout",
     "output_type": "stream",
     "text": [
      "your data is allaa , alaa@gmail.com\n"
     ]
    }
   ],
   "source": [
    "def check () :\n",
    "    name = input(\"enter your name : \")\n",
    "    if isinstance(name , str) and len(name) > 0 :\n",
    "        email = input(\"enter your email : \")\n",
    "        if isinstance(email , str) and '@' in email  and '.' in email:\n",
    "            print (f\"your data is {name} , {email}\")\n",
    "        else : \n",
    "            print (\"you entered a wrong email\")\n",
    "        \n",
    "    else :\n",
    "        print (\"try again\")\n",
    "check()    "
   ]
  },
  {
   "cell_type": "markdown",
   "metadata": {},
   "source": [
    "5-Write a function that takes a string and prints the longest alphabetical ordered substring occurred For example, if the string is 'abdulrahman' then the output is: Longest substring in alphabetical order is: abdu"
   ]
  },
  {
   "cell_type": "code",
   "execution_count": null,
   "metadata": {},
   "outputs": [],
   "source": []
  },
  {
   "cell_type": "code",
   "execution_count": null,
   "metadata": {},
   "outputs": [],
   "source": []
  },
  {
   "cell_type": "code",
   "execution_count": 10,
   "metadata": {},
   "outputs": [
    {
     "name": "stdout",
     "output_type": "stream",
     "text": [
      "al\n"
     ]
    }
   ],
   "source": [
    "newname = ''\n",
    "currentName=''\n",
    "def alphapet(name):\n",
    "    length = len(name)\n",
    "    if isinstance(name, str):\n",
    "        global newname\n",
    "        global currentName\n",
    "        for i in range(length):\n",
    "            if name[i] >= name[i - 1]:\n",
    "                currentName += name[i]\n",
    "            else:\n",
    "                if len(currentName) > len(newname):\n",
    "                    newname = currentName\n",
    "                currentName = name[i]\n",
    "    print(newname)\n",
    "\n",
    "alphapet('albc')\n"
   ]
  },
  {
   "cell_type": "markdown",
   "metadata": {},
   "source": [
    "6-Write a program which repeatedly reads numbers until the user enters “done”.Once “done” is entered, print out the total, count, and average of the numbers.If the user enters anything other than a number, detect their mistake, print an error message and skip to the next number."
   ]
  },
  {
   "cell_type": "code",
   "execution_count": 11,
   "metadata": {},
   "outputs": [
    {
     "name": "stdout",
     "output_type": "stream",
     "text": [
      "the total is : 9.0\n",
      "the count is : 3\n",
      "the average is : 3.0\n"
     ]
    }
   ],
   "source": [
    "total = 0\n",
    "count = 0\n",
    "for i in range(50):\n",
    "    x = input(\"Enter a number : \")\n",
    "    xCheck = x.isdigit()\n",
    "    if xCheck == True:\n",
    "        x = int(x)\n",
    "        \n",
    "    if x == 'done':\n",
    "        break\n",
    "\n",
    "    if isinstance (x , int ):\n",
    "        number = float(x)\n",
    "        total += number\n",
    "        count += 1\n",
    "\n",
    "if count > 0:\n",
    "    average = total / count\n",
    "    print(f\"the total is : {total}\")\n",
    "    print(f\"the count is : {count}\")\n",
    "    print(f\"the average is : {average}\")\n"
   ]
  },
  {
   "cell_type": "markdown",
   "metadata": {},
   "source": [
    "7-Word guessing game (hangman)\n",
    "○ A list of words will be hardcoded in your program, out of \n",
    "which the interpreter will\n",
    "○ choose 1 random word.\n",
    "○ The user first must input their names\n",
    "○ Ask the user to guess any alphabet. If the random word \n",
    "contains that alphabet, it\n",
    "○ will be shown as the output(with correct placement)\n",
    "○ Else the program will ask you to guess another alphabet.\n",
    "○ Give 7 turns maximum to guess the complete word"
   ]
  },
  {
   "cell_type": "code",
   "execution_count": null,
   "metadata": {},
   "outputs": [
    {
     "name": "stdout",
     "output_type": "stream",
     "text": [
      "holla\n",
      "good job hi\n"
     ]
    }
   ],
   "source": [
    "import random\n",
    "myl = ['hello', 'hi', 'holla']\n",
    "x = input(\"enter your name : \")\n",
    "y = input(\"guess a word : \")\n",
    "i = 0\n",
    "#print(random.choice(myl))\n",
    "while i <= 7:\n",
    "    if random.choice(myl) == y:\n",
    "        print(f\"good job {y}\")\n",
    "        break  \n",
    "    else:\n",
    "        y = input(\"guess a word : \")\n",
    "    i += 1\n"
   ]
  },
  {
   "cell_type": "code",
   "execution_count": null,
   "metadata": {},
   "outputs": [
    {
     "name": "stdout",
     "output_type": "stream",
     "text": [
      "hi\n"
     ]
    }
   ],
   "source": [
    "myl = {'hello', 'hi', 'holla'}\n",
    "x = input(\"enter your name : \")\n",
    "y = input(\"guess a word : \")\n",
    "i = 0\n",
    "print(myl.pop())\n",
    "while i <= 7:\n",
    "    if myl.pop()== y:\n",
    "        print(f\"good job {y}\")\n",
    "        break  \n",
    "    else:\n",
    "        y = input(\"guess a word : \")\n",
    "    i += 1"
   ]
  },
  {
   "cell_type": "markdown",
   "metadata": {},
   "source": []
  },
  {
   "cell_type": "code",
   "execution_count": 62,
   "metadata": {},
   "outputs": [
    {
     "name": "stdout",
     "output_type": "stream",
     "text": [
      "8\n"
     ]
    }
   ],
   "source": [
    "if __name__ == '__main__':\n",
    "    n = int(input())\n",
    "    arr = list(map(int, input().split()))\n",
    "    unique_arr = list(set(arr))\n",
    "    unique_arr.sort()\n",
    "    print (unique_arr[-2])"
   ]
  }
 ],
 "metadata": {
  "kernelspec": {
   "display_name": "Python 3",
   "language": "python",
   "name": "python3"
  },
  "language_info": {
   "codemirror_mode": {
    "name": "ipython",
    "version": 3
   },
   "file_extension": ".py",
   "mimetype": "text/x-python",
   "name": "python",
   "nbconvert_exporter": "python",
   "pygments_lexer": "ipython3",
   "version": "3.9.6"
  }
 },
 "nbformat": 4,
 "nbformat_minor": 2
}
