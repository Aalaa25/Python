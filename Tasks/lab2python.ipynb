{
 "cells": [
  {
   "cell_type": "markdown",
   "metadata": {},
   "source": [
    "1-Fill an array of 5 elements from the user, Sort it in descending and ascending orders then display the output."
   ]
  },
  {
   "cell_type": "code",
   "execution_count": null,
   "metadata": {},
   "outputs": [],
   "source": [
    "ls = []\n",
    "i = 0\n",
    "for i in range (5) :\n",
    "    y = input(\"please enter five elements : \")\n",
    "    checkY=y.isdigit()\n",
    "    if checkY == False :\n",
    "       y = int(y)\n",
    "    ls.append(y)\n",
    "print(ls)"
   ]
  },
  {
   "cell_type": "markdown",
   "metadata": {},
   "source": [
    "2-Write a program that prints the number of times the string 'iti' occurs in anystring."
   ]
  },
  {
   "cell_type": "code",
   "execution_count": null,
   "metadata": {},
   "outputs": [
    {
     "name": "stdout",
     "output_type": "stream",
     "text": [
      "3\n"
     ]
    }
   ],
   "source": [
    "y = input(\"please enter a string : \")\n",
    "x = len(y)\n",
    "i=0\n",
    "while i<= x :\n",
    "    for string in y :\n",
    "        l = y.count('iti')\n",
    "    i+=1\n",
    "print(l)"
   ]
  },
  {
   "cell_type": "markdown",
   "metadata": {},
   "source": [
    "3-Write a program that remove all vowels from the input word and generate a brief version of it"
   ]
  },
  {
   "cell_type": "code",
   "execution_count": 8,
   "metadata": {},
   "outputs": [
    {
     "name": "stdout",
     "output_type": "stream",
     "text": [
      "nh\n"
     ]
    }
   ],
   "source": [
    "\n",
    "y = input(\"enter a string\")\n",
    "nn = ''\n",
    "for c in y.lower() :\n",
    "    if not( c in 'aeiou'):\n",
    "        nn += c\n",
    "print(nn)\n",
    "    \n",
    "    "
   ]
  },
  {
   "cell_type": "markdown",
   "metadata": {},
   "source": [
    "4-Write a program that prints the locations of \"i\" character in any string you added."
   ]
  },
  {
   "cell_type": "code",
   "execution_count": 1,
   "metadata": {},
   "outputs": [
    {
     "name": "stdout",
     "output_type": "stream",
     "text": [
      "0 , i\n",
      "2 , i\n"
     ]
    }
   ],
   "source": [
    "y = input(\"enter a string\")\n",
    "for i ,c in enumerate(y) :\n",
    "    if c in 'i':\n",
    "        print(f\"{i} , {c}\")\n"
   ]
  },
  {
   "cell_type": "markdown",
   "metadata": {},
   "source": [
    "5-Write a program that generate a multiplication table from 1 to the number passed."
   ]
  },
  {
   "cell_type": "code",
   "execution_count": 3,
   "metadata": {},
   "outputs": [
    {
     "name": "stdout",
     "output_type": "stream",
     "text": [
      "[[1], [2, 4], [3, 6, 9], [4, 8, 12, 16]]\n"
     ]
    }
   ],
   "source": [
    "ls=[]\n",
    "\n",
    "y = input(\"Enter a number: \")\n",
    "if y.isdigit():\n",
    "    y = int(y)\n",
    "else:\n",
    "    print(\"you entered a wrong value\")\n",
    "i=1\n",
    "\n",
    "while i<= y :\n",
    "    j=1\n",
    "    newlist=[]\n",
    "    while j <= i :\n",
    "        newlist.append(i*j)\n",
    "        j+=1    \n",
    "    i+=1  \n",
    "    ls.append(newlist)\n",
    "print(ls)"
   ]
  },
  {
   "cell_type": "markdown",
   "metadata": {},
   "source": [
    "6-Write a program that build a Mario pyramid like below"
   ]
  },
  {
   "cell_type": "code",
   "execution_count": 4,
   "metadata": {},
   "outputs": [
    {
     "name": "stdout",
     "output_type": "stream",
     "text": [
      "    \n",
      "   *\n",
      "  **\n",
      " ***\n",
      "****\n"
     ]
    }
   ],
   "source": [
    "y = input(\"Enter a number: \")\n",
    "if y.isdigit():\n",
    "    y = int(y)\n",
    "else:\n",
    "    print(\"you entered a wrong value\")\n",
    "i=0\n",
    "while i <= y : \n",
    "    c = ' ' * (y-i) + \"*\" * (i)\n",
    "    print(c)\n",
    "    i+=1\n",
    "\n",
    "        \n",
    "    "
   ]
  },
  {
   "cell_type": "markdown",
   "metadata": {},
   "source": []
  }
 ],
 "metadata": {
  "kernelspec": {
   "display_name": "Python 3",
   "language": "python",
   "name": "python3"
  },
  "language_info": {
   "codemirror_mode": {
    "name": "ipython",
    "version": 3
   },
   "file_extension": ".py",
   "mimetype": "text/x-python",
   "name": "python",
   "nbconvert_exporter": "python",
   "pygments_lexer": "ipython3",
   "version": "3.9.6"
  }
 },
 "nbformat": 4,
 "nbformat_minor": 2
}
