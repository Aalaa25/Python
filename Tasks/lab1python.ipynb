{
 "cells": [
  {
   "cell_type": "markdown",
   "metadata": {},
   "source": [
    "1-"
   ]
  },
  {
   "cell_type": "code",
   "execution_count": null,
   "metadata": {},
   "outputs": [],
   "source": [
    "x = input(\"Enter a string : \")\n",
    "y = len(x)\n",
    "reverse = ''\n",
    "while y > 0 :\n",
    "    reverse +=x[y-1]\n",
    "    y -=1;\n",
    "print(reverse)"
   ]
  },
  {
   "cell_type": "markdown",
   "metadata": {},
   "source": [
    "2-\n"
   ]
  },
  {
   "cell_type": "code",
   "execution_count": null,
   "metadata": {},
   "outputs": [],
   "source": [
    "x = input(\"Enter a string :\")\n",
    "y=len(x)\n",
    "while y > 0:\n",
    "    i=x[y-1]\n",
    "    y-=1\n",
    "    for i in x :\n",
    "        A = x.count('a')\n",
    "        B = x.count('e')\n",
    "        C = x.count('i')\n",
    "        D = x.count('o')\n",
    "        E = x.count('u')\n",
    "    \n",
    "print(A,B,C,D,E)"
   ]
  },
  {
   "cell_type": "markdown",
   "metadata": {},
   "source": [
    "3-"
   ]
  },
  {
   "cell_type": "code",
   "execution_count": 1,
   "metadata": {},
   "outputs": [
    {
     "name": "stdout",
     "output_type": "stream",
     "text": [
      "lolo\n",
      "lolo\n",
      "lolo\n",
      "lolo\n"
     ]
    }
   ],
   "source": [
    "x = input(\"Enter a string : \")\n",
    "y = input(\"Enter a number : \")\n",
    "xCheck = x.isdigit()\n",
    "if xCheck == False :\n",
    "   y=int(y)\n",
    "i=0\n",
    "while i <= y :\n",
    "    print(x)\n",
    "    i+=1 "
   ]
  },
  {
   "cell_type": "markdown",
   "metadata": {},
   "source": [
    "4-"
   ]
  },
  {
   "cell_type": "code",
   "execution_count": 2,
   "metadata": {},
   "outputs": [
    {
     "name": "stdout",
     "output_type": "stream",
     "text": [
      "  Fdf.  Ffdfsf Ffergdf.  \n"
     ]
    }
   ],
   "source": [
    "x = input(\"Enter a string : \")\n",
    "y = len(x)\n",
    "i = 0\n",
    "capstring = ''\n",
    "\n",
    "while i < y:\n",
    "    if  i==0 or x[i-1] == ' ':\n",
    "        capstring += x[i].upper()\n",
    "    else :\n",
    "        capstring += x[i]\n",
    "    i += 1\n",
    "\n",
    "print(capstring)\n"
   ]
  },
  {
   "cell_type": "markdown",
   "metadata": {},
   "source": [
    "5-"
   ]
  },
  {
   "cell_type": "code",
   "execution_count": null,
   "metadata": {},
   "outputs": [],
   "source": [
    "i=0\n",
    "while i<=120:\n",
    "    if i % 2 ==0:\n",
    "       print(i)\n",
    "    i+=1"
   ]
  },
  {
   "cell_type": "markdown",
   "metadata": {},
   "source": [
    "6-"
   ]
  },
  {
   "cell_type": "code",
   "execution_count": 39,
   "metadata": {},
   "outputs": [
    {
     "name": "stdout",
     "output_type": "stream",
     "text": [
      "12\n"
     ]
    }
   ],
   "source": [
    "y = input(\"Enter a number : \")\n",
    "sum =0\n",
    "xCheck = x.isdigit()\n",
    "if xCheck == False :\n",
    "   y=int(y)\n",
    "i=0\n",
    "while i <= y :\n",
    "    if i % 2 ==0:\n",
    "        sum +=i\n",
    "    i+=1\n",
    "print(sum)"
   ]
  },
  {
   "cell_type": "markdown",
   "metadata": {},
   "source": [
    "7-"
   ]
  },
  {
   "cell_type": "code",
   "execution_count": 49,
   "metadata": {},
   "outputs": [
    {
     "name": "stdout",
     "output_type": "stream",
     "text": [
      "543210\n"
     ]
    }
   ],
   "source": [
    "y = input(\"Enter a number : \")\n",
    "res = ''\n",
    "xCheck = x.isdigit()\n",
    "if xCheck == False :\n",
    "   y=int(y)\n",
    "i=y\n",
    "while i >= 0 :\n",
    "    res += str(i)\n",
    "    i-=1\n",
    "print(res)"
   ]
  },
  {
   "cell_type": "markdown",
   "metadata": {},
   "source": [
    "8-"
   ]
  },
  {
   "cell_type": "code",
   "execution_count": 3,
   "metadata": {},
   "outputs": [
    {
     "name": "stdout",
     "output_type": "stream",
     "text": [
      "7\n"
     ]
    }
   ],
   "source": [
    "y = input(\"Enter a number : \")\n",
    "xCheck = y.isdigit()\n",
    "if xCheck == False :\n",
    "       y=int(y)\n",
    "\n",
    "while  not y > 0 :\n",
    "    y=int(input(\"enter a number\"))\n",
    "    \n",
    "print(y)  \n"
   ]
  },
  {
   "cell_type": "markdown",
   "metadata": {},
   "source": [
    "9-"
   ]
  },
  {
   "cell_type": "code",
   "execution_count": 10,
   "metadata": {},
   "outputs": [
    {
     "name": "stdout",
     "output_type": "stream",
     "text": [
      "120\n"
     ]
    }
   ],
   "source": [
    "y = input(\"Enter a number : \")\n",
    "if y.isdigit():\n",
    "    y = int(y)\n",
    "fac = 1\n",
    "while y > 1:\n",
    "    fac *= y\n",
    "    y -= 1\n",
    "print(fac)\n"
   ]
  },
  {
   "cell_type": "markdown",
   "metadata": {},
   "source": [
    "10-"
   ]
  },
  {
   "cell_type": "code",
   "execution_count": 12,
   "metadata": {},
   "outputs": [
    {
     "name": "stdout",
     "output_type": "stream",
     "text": [
      "798\n"
     ]
    }
   ],
   "source": [
    "y = input(\"Enter a number: \")\n",
    "\n",
    "xCheck = y.isdigit()\n",
    "if xCheck == True:\n",
    "    y = int(y)\n",
    "\n",
    "reverse = 0\n",
    "while y > 0:\n",
    "    reverse = reverse* 10 + y % 10\n",
    "    y //= 10\n",
    "\n",
    "print(reverse)\n"
   ]
  },
  {
   "cell_type": "markdown",
   "metadata": {},
   "source": [
    "11-"
   ]
  },
  {
   "cell_type": "code",
   "execution_count": null,
   "metadata": {},
   "outputs": [],
   "source": [
    "y = input(\"Enter a number: \")\n",
    "xCheck = y.isdigit()\n",
    "if xCheck == True:\n",
    "    y = int(y)\n",
    "password = 500\n",
    "while y != 500:\n",
    "    y = int(input(\"Enter a number: \"))\n",
    "print(y)\n",
    "\n"
   ]
  },
  {
   "cell_type": "code",
   "execution_count": 1,
   "metadata": {},
   "outputs": [
    {
     "name": "stdout",
     "output_type": "stream",
     "text": [
      "plz enter valid number\n",
      "plz enter valid number\n",
      "plz enter valid number\n",
      "plz enter valid number\n",
      "plz enter valid number\n",
      "plz enter valid number\n",
      "plz enter valid number\n",
      "plz enter valid number\n",
      "plz enter valid number\n",
      "password correct\n"
     ]
    }
   ],
   "source": [
    "while True:\n",
    "    num = input(\"plz enter number\")\n",
    "    if num=='500':\n",
    "        print(\"password correct\")\n",
    "        break\n",
    "    print(\"plz enter valid number\")"
   ]
  },
  {
   "cell_type": "markdown",
   "metadata": {},
   "source": [
    "12-"
   ]
  },
  {
   "cell_type": "code",
   "execution_count": 4,
   "metadata": {},
   "outputs": [
    {
     "name": "stdout",
     "output_type": "stream",
     "text": [
      "9\n",
      "4\n",
      "2\n",
      "1\n"
     ]
    }
   ],
   "source": [
    "y = input(\"Enter a number: \")\n",
    "xCheck = y.isdigit()\n",
    "if xCheck == True:\n",
    "    y = int(y)\n",
    "while y > 1 :\n",
    "    if y % 2 == 0 :\n",
    "        y //=2\n",
    "    else :\n",
    "        y = (y//3) + 1\n",
    "    print(y)\n",
    "    "
   ]
  },
  {
   "cell_type": "code",
   "execution_count": null,
   "metadata": {},
   "outputs": [],
   "source": []
  }
 ],
 "metadata": {
  "kernelspec": {
   "display_name": "Python 3",
   "language": "python",
   "name": "python3"
  },
  "language_info": {
   "codemirror_mode": {
    "name": "ipython",
    "version": 3
   },
   "file_extension": ".py",
   "mimetype": "text/x-python",
   "name": "python",
   "nbconvert_exporter": "python",
   "pygments_lexer": "ipython3",
   "version": "3.9.6"
  }
 },
 "nbformat": 4,
 "nbformat_minor": 2
}
